{
 "cells": [
  {
   "cell_type": "markdown",
   "id": "a8f99448",
   "metadata": {},
   "source": [
    "# Определения уровня сложности англоязычных фильмов "
   ]
  },
  {
   "cell_type": "markdown",
   "id": "361294fe",
   "metadata": {},
   "source": [
    "### Описание проекта\n",
    "Запрос сформирован тем, что просмотр фильмов на оригинальном языке - это популярный и действенный метод прокачаться при изучении иностранных языков. Важно выбрать фильм, который подходит студенту по уровню сложности, т.е. студент понимал 50-70 % диалогов. Чтобы выполнить это условие, преподаватель должен посмотреть фильм и решить, какому уровню он соответствует. Однако это требует больших временных затрат."
   ]
  },
  {
   "cell_type": "markdown",
   "id": "a0b72d2c",
   "metadata": {},
   "source": [
    "### Цели проекта\n",
    "Разработать ML решение для автоматического определения уровня сложности англоязычных фильмов. В нашем распоряжении более 200 фильмов с оценном экспертами уровнем сложности"
   ]
  },
  {
   "cell_type": "markdown",
   "id": "b8dc01df",
   "metadata": {},
   "source": [
    "Импортируем все необходимые библиотеки"
   ]
  },
  {
   "cell_type": "code",
   "execution_count": 133,
   "id": "deead0d8",
   "metadata": {},
   "outputs": [],
   "source": [
    "import pandas as pd\n",
    "import numpy as np\n",
    "\n",
    "import pysrt\n",
    "import re\n",
    "\n",
    "from pathlib import Path\n",
    "import os\n",
    "from difflib import get_close_matches\n",
    "\n",
    "from nltk.corpus import stopwords\n",
    "from nltk.tokenize import word_tokenize\n",
    "import nltk\n",
    "from sklearn.feature_extraction.text import TfidfVectorizer\n",
    "import string\n",
    "from nltk.corpus import stopwords\n",
    "\n",
    "from sklearn.model_selection import train_test_split\n",
    "\n",
    "\n",
    "from catboost import CatBoostClassifier, Pool\n",
    "from sklearn.ensemble import RandomForestClassifier\n",
    "from sklearn.metrics import balanced_accuracy_score\n",
    "\n",
    "import torch\n",
    "import warnings\n",
    "warnings.filterwarnings('ignore')"
   ]
  },
  {
   "cell_type": "markdown",
   "id": "759881c2",
   "metadata": {},
   "source": [
    "Загрузим файл с рейтингом сложности фильмов"
   ]
  },
  {
   "cell_type": "code",
   "execution_count": 2,
   "id": "656cfdab",
   "metadata": {},
   "outputs": [],
   "source": [
    "rating=pd.read_excel('/Users/dmitrijmatienko/Downloads/English_level/English_scores/movies_labels.xlsx')"
   ]
  },
  {
   "cell_type": "code",
   "execution_count": 3,
   "id": "e44591d8",
   "metadata": {},
   "outputs": [
    {
     "data": {
      "text/html": [
       "<div>\n",
       "<style scoped>\n",
       "    .dataframe tbody tr th:only-of-type {\n",
       "        vertical-align: middle;\n",
       "    }\n",
       "\n",
       "    .dataframe tbody tr th {\n",
       "        vertical-align: top;\n",
       "    }\n",
       "\n",
       "    .dataframe thead th {\n",
       "        text-align: right;\n",
       "    }\n",
       "</style>\n",
       "<table border=\"1\" class=\"dataframe\">\n",
       "  <thead>\n",
       "    <tr style=\"text-align: right;\">\n",
       "      <th></th>\n",
       "      <th>id</th>\n",
       "      <th>Movie</th>\n",
       "      <th>Level</th>\n",
       "    </tr>\n",
       "  </thead>\n",
       "  <tbody>\n",
       "    <tr>\n",
       "      <th>0</th>\n",
       "      <td>0</td>\n",
       "      <td>10_Cloverfield_lane(2016)</td>\n",
       "      <td>B1</td>\n",
       "    </tr>\n",
       "    <tr>\n",
       "      <th>1</th>\n",
       "      <td>1</td>\n",
       "      <td>10_things_I_hate_about_you(1999)</td>\n",
       "      <td>B1</td>\n",
       "    </tr>\n",
       "    <tr>\n",
       "      <th>2</th>\n",
       "      <td>2</td>\n",
       "      <td>A_knights_tale(2001)</td>\n",
       "      <td>B2</td>\n",
       "    </tr>\n",
       "    <tr>\n",
       "      <th>3</th>\n",
       "      <td>3</td>\n",
       "      <td>A_star_is_born(2018)</td>\n",
       "      <td>B2</td>\n",
       "    </tr>\n",
       "    <tr>\n",
       "      <th>4</th>\n",
       "      <td>4</td>\n",
       "      <td>Aladdin(1992)</td>\n",
       "      <td>A2/A2+</td>\n",
       "    </tr>\n",
       "    <tr>\n",
       "      <th>...</th>\n",
       "      <td>...</td>\n",
       "      <td>...</td>\n",
       "      <td>...</td>\n",
       "    </tr>\n",
       "    <tr>\n",
       "      <th>236</th>\n",
       "      <td>236</td>\n",
       "      <td>Matilda(2022)</td>\n",
       "      <td>C1</td>\n",
       "    </tr>\n",
       "    <tr>\n",
       "      <th>237</th>\n",
       "      <td>237</td>\n",
       "      <td>Bullet train</td>\n",
       "      <td>B1</td>\n",
       "    </tr>\n",
       "    <tr>\n",
       "      <th>238</th>\n",
       "      <td>238</td>\n",
       "      <td>Thor: love and thunder</td>\n",
       "      <td>B2</td>\n",
       "    </tr>\n",
       "    <tr>\n",
       "      <th>239</th>\n",
       "      <td>239</td>\n",
       "      <td>Lightyear</td>\n",
       "      <td>B2</td>\n",
       "    </tr>\n",
       "    <tr>\n",
       "      <th>240</th>\n",
       "      <td>240</td>\n",
       "      <td>The Grinch</td>\n",
       "      <td>B1</td>\n",
       "    </tr>\n",
       "  </tbody>\n",
       "</table>\n",
       "<p>241 rows × 3 columns</p>\n",
       "</div>"
      ],
      "text/plain": [
       "      id                             Movie   Level\n",
       "0      0         10_Cloverfield_lane(2016)      B1\n",
       "1      1  10_things_I_hate_about_you(1999)      B1\n",
       "2      2              A_knights_tale(2001)      B2\n",
       "3      3              A_star_is_born(2018)      B2\n",
       "4      4                     Aladdin(1992)  A2/A2+\n",
       "..   ...                               ...     ...\n",
       "236  236                     Matilda(2022)      C1\n",
       "237  237                      Bullet train      B1\n",
       "238  238            Thor: love and thunder      B2\n",
       "239  239                         Lightyear      B2\n",
       "240  240                        The Grinch      B1\n",
       "\n",
       "[241 rows x 3 columns]"
      ]
     },
     "execution_count": 3,
     "metadata": {},
     "output_type": "execute_result"
    }
   ],
   "source": [
    "rating"
   ]
  },
  {
   "cell_type": "code",
   "execution_count": 4,
   "id": "2102728d",
   "metadata": {},
   "outputs": [],
   "source": [
    "level=rating['Level']"
   ]
  },
  {
   "cell_type": "markdown",
   "id": "77b3e278",
   "metadata": {},
   "source": [
    "Вытащим названия фильмов"
   ]
  },
  {
   "cell_type": "code",
   "execution_count": 5,
   "id": "b1f46a79",
   "metadata": {},
   "outputs": [],
   "source": [
    "names=list(rating['Movie'])"
   ]
  },
  {
   "cell_type": "markdown",
   "id": "8660dfd3",
   "metadata": {},
   "source": [
    "Каждый фильм содержится в отдельном файле, поэтому будем действовать по следующему алгоритму:\n",
    "1. Загружаем каждый файл в цикле\n",
    "2. Пропускаем содержимое файла через различные функции обработки( выкидываем ссылки, стопслова, пунктуацию и тд)\n",
    "3. Добавляем содержимое файла в отдельный большой файл, который будем в дальнейшем использовать для обучения модели, файл должен содежать субтитры каждого фильма, рейтинг фильма и название"
   ]
  },
  {
   "cell_type": "markdown",
   "id": "f051bb12",
   "metadata": {},
   "source": [
    "Загрузим все из папки 'Subtitles'"
   ]
  },
  {
   "cell_type": "code",
   "execution_count": 6,
   "id": "ee31c4eb",
   "metadata": {},
   "outputs": [],
   "source": [
    "S = Path('/Users/dmitrijmatienko/Downloads/English_level/English_scores/Subtitles_all/Subtitles')\n",
    "films_sub=list(S.glob(\"*.srt\"))"
   ]
  },
  {
   "cell_type": "markdown",
   "id": "5b9433c2",
   "metadata": {},
   "source": [
    "Присвоим имя каждому фильму из файла"
   ]
  },
  {
   "cell_type": "code",
   "execution_count": 7,
   "id": "de818faa",
   "metadata": {},
   "outputs": [],
   "source": [
    "def get_subtitle_titles(films_sub, names):\n",
    "    \n",
    "    title_sub=[]\n",
    "    for i in range(0,len(films_sub)):\n",
    "        n=get_close_matches(str(os.path.splitext(os.path.basename(films_sub[i]))[0]),names,1)\n",
    "        if len(n)!=0:\n",
    "            title_sub.append(n[0])\n",
    "        else:\n",
    "            title_sub.append(str(os.path.splitext(os.path.basename(films_sub[i]))[0]))\n",
    "    return(title_sub)"
   ]
  },
  {
   "cell_type": "code",
   "execution_count": 8,
   "id": "5d5444ad",
   "metadata": {},
   "outputs": [],
   "source": [
    "title_sub=get_subtitle_titles(films_sub, names)"
   ]
  },
  {
   "cell_type": "code",
   "execution_count": 9,
   "id": "9bbee72d",
   "metadata": {},
   "outputs": [],
   "source": [
    "missed=[]\n",
    "for i in range(0,len(title_sub)):\n",
    "    if title_sub[i] not in names:\n",
    "        missed.append(title_sub[i])  "
   ]
  },
  {
   "cell_type": "code",
   "execution_count": 78,
   "id": "73bd8e1b",
   "metadata": {},
   "outputs": [
    {
     "data": {
      "text/plain": [
       "['Gogo_Loves_English',\n",
       " 'Westworld_scenes_of_Dr_Robert_Ford',\n",
       " 'The_Ghost_Writer',\n",
       " 'Harry_Potter_and_the_philosophers_stone(2001)',\n",
       " 'Casper',\n",
       " 'Pride_and_Prejudice',\n",
       " 'BrenВ.Brown.The.Call.to.Courage.2019.720.NF.720p.DDP.5.1.x264-CafeFlix']"
      ]
     },
     "execution_count": 78,
     "metadata": {},
     "output_type": "execute_result"
    }
   ],
   "source": [
    "missed"
   ]
  },
  {
   "cell_type": "markdown",
   "id": "a6b05197",
   "metadata": {},
   "source": [
    "Части фильмов из файла с субтитрами нет в таблице с рейтингами, такие субтитры будем удалять, так как нет возможности определить их рейтинг"
   ]
  },
  {
   "cell_type": "markdown",
   "id": "d7514109",
   "metadata": {},
   "source": [
    "Напишем функцию, которая будет обрабатывать файл с субтитрами и убирать HTML ссылки, комментарии, повторяющиеся пробелы, не ascii символы, также удаляет первый и последний субтитр"
   ]
  },
  {
   "cell_type": "code",
   "execution_count": 11,
   "id": "d2f13aec",
   "metadata": {},
   "outputs": [],
   "source": [
    "HTML = re.compile(r'<.*?>')\n",
    "TAG = r'{.*?}'\n",
    "COMMENTS = r'[\\(\\[][A-Z ]+[\\)\\]]'\n",
    "LETTERS = r'[^a-zA-Z\\'.,!? ]'\n",
    "SPACES = r'([ ])\\1+'\n",
    "DOTS = r'[\\.]+'\n",
    "\n",
    "def clean_subs(subs):\n",
    "    txt = re.sub(HTML, ' ', subs) #html тэги меняем на пробел\n",
    "    txt = re.sub(TAG, ' ', txt) #тэги меняем на пробел\n",
    "    txt = re.sub(COMMENTS, ' ', txt) #комменты меняем на пробел\n",
    "    txt = re.sub(LETTERS, ' ', txt) #все что не буквы меняем на пробел\n",
    "    txt = re.sub(SPACES, r'\\1', txt) #повторяющиеся пробелы меняем на один пробел\n",
    "    txt = re.sub(DOTS, r'.', txt)\n",
    "    txt = txt.encode('ascii', 'ignore').decode() #удаляем все что не ascii символы\n",
    "    txt = \".\".join(txt.lower().split('.')[1:-1]) #удаляем первый и последний субтитр (обычно это реклама)\n",
    "    return txt"
   ]
  },
  {
   "cell_type": "markdown",
   "id": "3cde4054",
   "metadata": {},
   "source": [
    "Прогоним файл с субтитрами через функцию и добавим все субтитры в один список"
   ]
  },
  {
   "cell_type": "code",
   "execution_count": 12,
   "id": "80da1a1d",
   "metadata": {},
   "outputs": [],
   "source": [
    "def get_subtitles(films_sub):\n",
    "    subtitles = []\n",
    "    encodings = ['utf-8', 'latin-1', 'utf-16']\n",
    "\n",
    "    for film_sub in films_sub:\n",
    "        for encoding in encodings:\n",
    "            try:\n",
    "                with open(str(film_sub), 'r', encoding=encoding) as file:\n",
    "                    subtitles.append(clean_subs(file.read()))\n",
    "                break  \n",
    "            except UnicodeDecodeError:\n",
    "                continue\n",
    "\n",
    "    return subtitles"
   ]
  },
  {
   "cell_type": "code",
   "execution_count": 13,
   "id": "2f2f5da6",
   "metadata": {},
   "outputs": [],
   "source": [
    "subtitle=get_subtitles(films_sub)"
   ]
  },
  {
   "cell_type": "code",
   "execution_count": 14,
   "id": "12eb8815",
   "metadata": {},
   "outputs": [
    {
     "data": {
      "text/plain": [
       "115"
      ]
     },
     "execution_count": 14,
     "metadata": {},
     "output_type": "execute_result"
    }
   ],
   "source": [
    "len(subtitle)"
   ]
  },
  {
   "cell_type": "markdown",
   "id": "d2823ab8",
   "metadata": {},
   "source": []
  },
  {
   "cell_type": "code",
   "execution_count": 15,
   "id": "c841fb8a",
   "metadata": {},
   "outputs": [],
   "source": [
    "def get_rating(title_sub,names):\n",
    "    rating_sub=[]\n",
    "    for i in range(0,len(title_sub)):\n",
    "        if title_sub[i] in names:\n",
    "            rating_sub.append(level[names.index(title_sub[i])])\n",
    "        else:\n",
    "            rating_sub.append(None)\n",
    "    return(rating_sub)\n",
    "        \n",
    "        "
   ]
  },
  {
   "cell_type": "code",
   "execution_count": 16,
   "id": "25cee1be",
   "metadata": {},
   "outputs": [],
   "source": [
    "rating_sub=get_rating(title_sub,names)"
   ]
  },
  {
   "cell_type": "code",
   "execution_count": 17,
   "id": "f86cea47",
   "metadata": {},
   "outputs": [],
   "source": [
    "subtitles=pd.DataFrame({'title':title_sub,'subtitles':subtitle,'rating':rating_sub})"
   ]
  },
  {
   "cell_type": "code",
   "execution_count": 18,
   "id": "e34079af",
   "metadata": {},
   "outputs": [
    {
     "data": {
      "text/plain": [
       "title        0\n",
       "subtitles    0\n",
       "rating       7\n",
       "dtype: int64"
      ]
     },
     "execution_count": 18,
     "metadata": {},
     "output_type": "execute_result"
    }
   ],
   "source": [
    "subtitles.isna().sum()"
   ]
  },
  {
   "cell_type": "markdown",
   "id": "3307c0c0",
   "metadata": {},
   "source": [
    "Теперь загрузим данные из других папок"
   ]
  },
  {
   "cell_type": "code",
   "execution_count": 19,
   "id": "9d59f36a",
   "metadata": {},
   "outputs": [],
   "source": [
    "def get_data(i):\n",
    "    name='/Users/dmitrijmatienko/Downloads/English_level/English_scores/Subtitles_all/'+i\n",
    "    B_1=Path(name)\n",
    "    films_B_1=list(B_1.glob(\"*.srt\"))\n",
    "    \n",
    "    title_B_1=get_subtitle_titles(films_B_1, names)\n",
    "    \n",
    "    B_1=get_subtitles(films_B_1)\n",
    "    rating_B_1=i\n",
    "\n",
    "\n",
    "\n",
    "    \n",
    "    B_1_d=pd.DataFrame({'title':title_B_1,'subtitles':B_1,'rating':rating_B_1})\n",
    "    \n",
    "    return(B_1_d)"
   ]
  },
  {
   "cell_type": "code",
   "execution_count": 20,
   "id": "6c593ba1",
   "metadata": {},
   "outputs": [],
   "source": [
    "c_1=get_data('C1')\n",
    "b_1=get_data('B1')\n",
    "b_2=get_data('B2')\n",
    "a_2=get_data('A2')"
   ]
  },
  {
   "cell_type": "code",
   "execution_count": 21,
   "id": "777e5f4f",
   "metadata": {},
   "outputs": [],
   "source": [
    "c_11=subtitles.append(c_1,ignore_index=True)\n",
    "b_11=c_11.append(b_1,ignore_index=True)\n",
    "b_22=b_11.append(b_2,ignore_index=True)\n",
    "data=b_22.append(a_2,ignore_index=True)"
   ]
  },
  {
   "cell_type": "code",
   "execution_count": 22,
   "id": "abb15968",
   "metadata": {},
   "outputs": [
    {
     "data": {
      "text/plain": [
       "title        0\n",
       "subtitles    0\n",
       "rating       7\n",
       "dtype: int64"
      ]
     },
     "execution_count": 22,
     "metadata": {},
     "output_type": "execute_result"
    }
   ],
   "source": [
    "data.isna().sum()"
   ]
  },
  {
   "cell_type": "code",
   "execution_count": 23,
   "id": "fe42a01b",
   "metadata": {},
   "outputs": [
    {
     "data": {
      "text/html": [
       "<div>\n",
       "<style scoped>\n",
       "    .dataframe tbody tr th:only-of-type {\n",
       "        vertical-align: middle;\n",
       "    }\n",
       "\n",
       "    .dataframe tbody tr th {\n",
       "        vertical-align: top;\n",
       "    }\n",
       "\n",
       "    .dataframe thead th {\n",
       "        text-align: right;\n",
       "    }\n",
       "</style>\n",
       "<table border=\"1\" class=\"dataframe\">\n",
       "  <thead>\n",
       "    <tr style=\"text-align: right;\">\n",
       "      <th></th>\n",
       "      <th>title</th>\n",
       "      <th>subtitles</th>\n",
       "      <th>rating</th>\n",
       "    </tr>\n",
       "  </thead>\n",
       "  <tbody>\n",
       "    <tr>\n",
       "      <th>0</th>\n",
       "      <td>Dredd(2012)</td>\n",
       "      <td>, , within it lies a city. , , outside the bo...</td>\n",
       "      <td>A2/A2+</td>\n",
       "    </tr>\n",
       "    <tr>\n",
       "      <th>1</th>\n",
       "      <td>Despicable_Me(2010)</td>\n",
       "      <td>i got the pyramid in my hand. , , justin, you...</td>\n",
       "      <td>B2</td>\n",
       "    </tr>\n",
       "    <tr>\n",
       "      <th>2</th>\n",
       "      <td>The_secret_life_of_Walter_Mitty(2013)</td>\n",
       "      <td>, , how can i help you today? , , hi. i can't...</td>\n",
       "      <td>B1</td>\n",
       "    </tr>\n",
       "    <tr>\n",
       "      <th>3</th>\n",
       "      <td>Shrek(2001)</td>\n",
       "      <td>se user zen bud , , once upon a time there was...</td>\n",
       "      <td>B1</td>\n",
       "    </tr>\n",
       "    <tr>\n",
       "      <th>4</th>\n",
       "      <td>Deadpool(2016)</td>\n",
       "      <td>com ahmedhamdy , , , , there'll be no strings ...</td>\n",
       "      <td>B2</td>\n",
       "    </tr>\n",
       "    <tr>\n",
       "      <th>...</th>\n",
       "      <td>...</td>\n",
       "      <td>...</td>\n",
       "      <td>...</td>\n",
       "    </tr>\n",
       "    <tr>\n",
       "      <th>273</th>\n",
       "      <td>The Walking Dead-S01E05-Wildfire.English</td>\n",
       "      <td>, , i don't know if you can hear me. , , mayb...</td>\n",
       "      <td>A2</td>\n",
       "    </tr>\n",
       "    <tr>\n",
       "      <th>274</th>\n",
       "      <td>The Walking Dead-S01E02-Guts.English</td>\n",
       "      <td>, , pots rattling , , any luck? , , how do we...</td>\n",
       "      <td>A2</td>\n",
       "    </tr>\n",
       "    <tr>\n",
       "      <th>275</th>\n",
       "      <td>The Walking Dead-S01E04-Vatos.English</td>\n",
       "      <td>, , it's not nothing. it's always something. ...</td>\n",
       "      <td>A2</td>\n",
       "    </tr>\n",
       "    <tr>\n",
       "      <th>276</th>\n",
       "      <td>The Walking Dead-S01E06-TS-19.English</td>\n",
       "      <td>whoa whoa whoa whoa. , , ma'am. ma'am, please...</td>\n",
       "      <td>A2</td>\n",
       "    </tr>\n",
       "    <tr>\n",
       "      <th>277</th>\n",
       "      <td>The Walking Dead-S01E01-Days Gone Bye.English</td>\n",
       "      <td>, , little girl. , , don't be afraid, okay? ,...</td>\n",
       "      <td>A2</td>\n",
       "    </tr>\n",
       "  </tbody>\n",
       "</table>\n",
       "<p>278 rows × 3 columns</p>\n",
       "</div>"
      ],
      "text/plain": [
       "                                             title  \\\n",
       "0                                      Dredd(2012)   \n",
       "1                              Despicable_Me(2010)   \n",
       "2            The_secret_life_of_Walter_Mitty(2013)   \n",
       "3                                      Shrek(2001)   \n",
       "4                                   Deadpool(2016)   \n",
       "..                                             ...   \n",
       "273       The Walking Dead-S01E05-Wildfire.English   \n",
       "274           The Walking Dead-S01E02-Guts.English   \n",
       "275          The Walking Dead-S01E04-Vatos.English   \n",
       "276          The Walking Dead-S01E06-TS-19.English   \n",
       "277  The Walking Dead-S01E01-Days Gone Bye.English   \n",
       "\n",
       "                                             subtitles  rating  \n",
       "0     , , within it lies a city. , , outside the bo...  A2/A2+  \n",
       "1     i got the pyramid in my hand. , , justin, you...      B2  \n",
       "2     , , how can i help you today? , , hi. i can't...      B1  \n",
       "3    se user zen bud , , once upon a time there was...      B1  \n",
       "4    com ahmedhamdy , , , , there'll be no strings ...      B2  \n",
       "..                                                 ...     ...  \n",
       "273   , , i don't know if you can hear me. , , mayb...      A2  \n",
       "274   , , pots rattling , , any luck? , , how do we...      A2  \n",
       "275   , , it's not nothing. it's always something. ...      A2  \n",
       "276   whoa whoa whoa whoa. , , ma'am. ma'am, please...      A2  \n",
       "277   , , little girl. , , don't be afraid, okay? ,...      A2  \n",
       "\n",
       "[278 rows x 3 columns]"
      ]
     },
     "execution_count": 23,
     "metadata": {},
     "output_type": "execute_result"
    }
   ],
   "source": [
    "data"
   ]
  },
  {
   "cell_type": "markdown",
   "id": "82e09631",
   "metadata": {},
   "source": [
    "Удалим пропущенные значения"
   ]
  },
  {
   "cell_type": "code",
   "execution_count": 24,
   "id": "60b0e24b",
   "metadata": {},
   "outputs": [],
   "source": [
    "data=data.dropna()"
   ]
  },
  {
   "cell_type": "code",
   "execution_count": 25,
   "id": "1d7dea66",
   "metadata": {},
   "outputs": [
    {
     "name": "stdout",
     "output_type": "stream",
     "text": [
      "<class 'pandas.core.frame.DataFrame'>\n",
      "Int64Index: 271 entries, 0 to 277\n",
      "Data columns (total 3 columns):\n",
      " #   Column     Non-Null Count  Dtype \n",
      "---  ------     --------------  ----- \n",
      " 0   title      271 non-null    object\n",
      " 1   subtitles  271 non-null    object\n",
      " 2   rating     271 non-null    object\n",
      "dtypes: object(3)\n",
      "memory usage: 8.5+ KB\n"
     ]
    }
   ],
   "source": [
    "data.info()"
   ]
  },
  {
   "cell_type": "code",
   "execution_count": 26,
   "id": "47386c38",
   "metadata": {},
   "outputs": [
    {
     "data": {
      "text/html": [
       "<div>\n",
       "<style scoped>\n",
       "    .dataframe tbody tr th:only-of-type {\n",
       "        vertical-align: middle;\n",
       "    }\n",
       "\n",
       "    .dataframe tbody tr th {\n",
       "        vertical-align: top;\n",
       "    }\n",
       "\n",
       "    .dataframe thead th {\n",
       "        text-align: right;\n",
       "    }\n",
       "</style>\n",
       "<table border=\"1\" class=\"dataframe\">\n",
       "  <thead>\n",
       "    <tr style=\"text-align: right;\">\n",
       "      <th></th>\n",
       "      <th>title</th>\n",
       "      <th>subtitles</th>\n",
       "      <th>rating</th>\n",
       "    </tr>\n",
       "  </thead>\n",
       "  <tbody>\n",
       "    <tr>\n",
       "      <th>0</th>\n",
       "      <td>Dredd(2012)</td>\n",
       "      <td>, , within it lies a city. , , outside the bo...</td>\n",
       "      <td>A2/A2+</td>\n",
       "    </tr>\n",
       "    <tr>\n",
       "      <th>1</th>\n",
       "      <td>Despicable_Me(2010)</td>\n",
       "      <td>i got the pyramid in my hand. , , justin, you...</td>\n",
       "      <td>B2</td>\n",
       "    </tr>\n",
       "    <tr>\n",
       "      <th>2</th>\n",
       "      <td>The_secret_life_of_Walter_Mitty(2013)</td>\n",
       "      <td>, , how can i help you today? , , hi. i can't...</td>\n",
       "      <td>B1</td>\n",
       "    </tr>\n",
       "    <tr>\n",
       "      <th>3</th>\n",
       "      <td>Shrek(2001)</td>\n",
       "      <td>se user zen bud , , once upon a time there was...</td>\n",
       "      <td>B1</td>\n",
       "    </tr>\n",
       "    <tr>\n",
       "      <th>4</th>\n",
       "      <td>Deadpool(2016)</td>\n",
       "      <td>com ahmedhamdy , , , , there'll be no strings ...</td>\n",
       "      <td>B2</td>\n",
       "    </tr>\n",
       "    <tr>\n",
       "      <th>...</th>\n",
       "      <td>...</td>\n",
       "      <td>...</td>\n",
       "      <td>...</td>\n",
       "    </tr>\n",
       "    <tr>\n",
       "      <th>273</th>\n",
       "      <td>The Walking Dead-S01E05-Wildfire.English</td>\n",
       "      <td>, , i don't know if you can hear me. , , mayb...</td>\n",
       "      <td>A2</td>\n",
       "    </tr>\n",
       "    <tr>\n",
       "      <th>274</th>\n",
       "      <td>The Walking Dead-S01E02-Guts.English</td>\n",
       "      <td>, , pots rattling , , any luck? , , how do we...</td>\n",
       "      <td>A2</td>\n",
       "    </tr>\n",
       "    <tr>\n",
       "      <th>275</th>\n",
       "      <td>The Walking Dead-S01E04-Vatos.English</td>\n",
       "      <td>, , it's not nothing. it's always something. ...</td>\n",
       "      <td>A2</td>\n",
       "    </tr>\n",
       "    <tr>\n",
       "      <th>276</th>\n",
       "      <td>The Walking Dead-S01E06-TS-19.English</td>\n",
       "      <td>whoa whoa whoa whoa. , , ma'am. ma'am, please...</td>\n",
       "      <td>A2</td>\n",
       "    </tr>\n",
       "    <tr>\n",
       "      <th>277</th>\n",
       "      <td>The Walking Dead-S01E01-Days Gone Bye.English</td>\n",
       "      <td>, , little girl. , , don't be afraid, okay? ,...</td>\n",
       "      <td>A2</td>\n",
       "    </tr>\n",
       "  </tbody>\n",
       "</table>\n",
       "<p>271 rows × 3 columns</p>\n",
       "</div>"
      ],
      "text/plain": [
       "                                             title  \\\n",
       "0                                      Dredd(2012)   \n",
       "1                              Despicable_Me(2010)   \n",
       "2            The_secret_life_of_Walter_Mitty(2013)   \n",
       "3                                      Shrek(2001)   \n",
       "4                                   Deadpool(2016)   \n",
       "..                                             ...   \n",
       "273       The Walking Dead-S01E05-Wildfire.English   \n",
       "274           The Walking Dead-S01E02-Guts.English   \n",
       "275          The Walking Dead-S01E04-Vatos.English   \n",
       "276          The Walking Dead-S01E06-TS-19.English   \n",
       "277  The Walking Dead-S01E01-Days Gone Bye.English   \n",
       "\n",
       "                                             subtitles  rating  \n",
       "0     , , within it lies a city. , , outside the bo...  A2/A2+  \n",
       "1     i got the pyramid in my hand. , , justin, you...      B2  \n",
       "2     , , how can i help you today? , , hi. i can't...      B1  \n",
       "3    se user zen bud , , once upon a time there was...      B1  \n",
       "4    com ahmedhamdy , , , , there'll be no strings ...      B2  \n",
       "..                                                 ...     ...  \n",
       "273   , , i don't know if you can hear me. , , mayb...      A2  \n",
       "274   , , pots rattling , , any luck? , , how do we...      A2  \n",
       "275   , , it's not nothing. it's always something. ...      A2  \n",
       "276   whoa whoa whoa whoa. , , ma'am. ma'am, please...      A2  \n",
       "277   , , little girl. , , don't be afraid, okay? ,...      A2  \n",
       "\n",
       "[271 rows x 3 columns]"
      ]
     },
     "execution_count": 26,
     "metadata": {},
     "output_type": "execute_result"
    }
   ],
   "source": [
    "data"
   ]
  },
  {
   "cell_type": "code",
   "execution_count": 27,
   "id": "0852dffa",
   "metadata": {},
   "outputs": [
    {
     "data": {
      "text/html": [
       "<div>\n",
       "<style scoped>\n",
       "    .dataframe tbody tr th:only-of-type {\n",
       "        vertical-align: middle;\n",
       "    }\n",
       "\n",
       "    .dataframe tbody tr th {\n",
       "        vertical-align: top;\n",
       "    }\n",
       "\n",
       "    .dataframe thead th {\n",
       "        text-align: right;\n",
       "    }\n",
       "</style>\n",
       "<table border=\"1\" class=\"dataframe\">\n",
       "  <thead>\n",
       "    <tr style=\"text-align: right;\">\n",
       "      <th></th>\n",
       "      <th>title</th>\n",
       "      <th>subtitles</th>\n",
       "      <th>rating</th>\n",
       "    </tr>\n",
       "  </thead>\n",
       "  <tbody>\n",
       "    <tr>\n",
       "      <th>count</th>\n",
       "      <td>271</td>\n",
       "      <td>271</td>\n",
       "      <td>271</td>\n",
       "    </tr>\n",
       "    <tr>\n",
       "      <th>unique</th>\n",
       "      <td>266</td>\n",
       "      <td>271</td>\n",
       "      <td>7</td>\n",
       "    </tr>\n",
       "    <tr>\n",
       "      <th>top</th>\n",
       "      <td>Downton Abbey - S01E07 - Episode 7.eng.SDH</td>\n",
       "      <td>, , within it lies a city. , , outside the bo...</td>\n",
       "      <td>B2</td>\n",
       "    </tr>\n",
       "    <tr>\n",
       "      <th>freq</th>\n",
       "      <td>2</td>\n",
       "      <td>1</td>\n",
       "      <td>137</td>\n",
       "    </tr>\n",
       "  </tbody>\n",
       "</table>\n",
       "</div>"
      ],
      "text/plain": [
       "                                             title  \\\n",
       "count                                          271   \n",
       "unique                                         266   \n",
       "top     Downton Abbey - S01E07 - Episode 7.eng.SDH   \n",
       "freq                                             2   \n",
       "\n",
       "                                                subtitles rating  \n",
       "count                                                 271    271  \n",
       "unique                                                271      7  \n",
       "top      , , within it lies a city. , , outside the bo...     B2  \n",
       "freq                                                    1    137  "
      ]
     },
     "execution_count": 27,
     "metadata": {},
     "output_type": "execute_result"
    }
   ],
   "source": [
    "data.describe()"
   ]
  },
  {
   "cell_type": "code",
   "execution_count": 28,
   "id": "1034aec9",
   "metadata": {},
   "outputs": [
    {
     "data": {
      "text/html": [
       "<div>\n",
       "<style scoped>\n",
       "    .dataframe tbody tr th:only-of-type {\n",
       "        vertical-align: middle;\n",
       "    }\n",
       "\n",
       "    .dataframe tbody tr th {\n",
       "        vertical-align: top;\n",
       "    }\n",
       "\n",
       "    .dataframe thead th {\n",
       "        text-align: right;\n",
       "    }\n",
       "</style>\n",
       "<table border=\"1\" class=\"dataframe\">\n",
       "  <thead>\n",
       "    <tr style=\"text-align: right;\">\n",
       "      <th></th>\n",
       "      <th>title</th>\n",
       "      <th>subtitles</th>\n",
       "      <th>rating</th>\n",
       "    </tr>\n",
       "  </thead>\n",
       "  <tbody>\n",
       "    <tr>\n",
       "      <th>33</th>\n",
       "      <td>Beauty_and_the_beast(2017)</td>\n",
       "      <td>absolutely but i just , , need a little more ...</td>\n",
       "      <td>B2</td>\n",
       "    </tr>\n",
       "    <tr>\n",
       "      <th>174</th>\n",
       "      <td>Downton Abbey - S01E04 - Episode 4.eng.SDH</td>\n",
       "      <td>philip fuel on. , , chocks are in position. s...</td>\n",
       "      <td>B2</td>\n",
       "    </tr>\n",
       "    <tr>\n",
       "      <th>224</th>\n",
       "      <td>Downton Abbey - S01E03 - Episode 3.eng.SDH</td>\n",
       "      <td>, , are you hearing me? hear you clearly. , ,...</td>\n",
       "      <td>B2</td>\n",
       "    </tr>\n",
       "    <tr>\n",
       "      <th>241</th>\n",
       "      <td>Downton Abbey - S01E07 - Episode 7.eng.SDH</td>\n",
       "      <td>yes, ma'am. , , girls, it's too soon. i can't...</td>\n",
       "      <td>B2</td>\n",
       "    </tr>\n",
       "    <tr>\n",
       "      <th>250</th>\n",
       "      <td>Downton Abbey - S01E06 - Episode 6.eng.SDH</td>\n",
       "      <td>, , and now, to watch the coronation derby co...</td>\n",
       "      <td>B2</td>\n",
       "    </tr>\n",
       "  </tbody>\n",
       "</table>\n",
       "</div>"
      ],
      "text/plain": [
       "                                          title  \\\n",
       "33                   Beauty_and_the_beast(2017)   \n",
       "174  Downton Abbey - S01E04 - Episode 4.eng.SDH   \n",
       "224  Downton Abbey - S01E03 - Episode 3.eng.SDH   \n",
       "241  Downton Abbey - S01E07 - Episode 7.eng.SDH   \n",
       "250  Downton Abbey - S01E06 - Episode 6.eng.SDH   \n",
       "\n",
       "                                             subtitles rating  \n",
       "33    absolutely but i just , , need a little more ...     B2  \n",
       "174   philip fuel on. , , chocks are in position. s...     B2  \n",
       "224   , , are you hearing me? hear you clearly. , ,...     B2  \n",
       "241   yes, ma'am. , , girls, it's too soon. i can't...     B2  \n",
       "250   , , and now, to watch the coronation derby co...     B2  "
      ]
     },
     "execution_count": 28,
     "metadata": {},
     "output_type": "execute_result"
    }
   ],
   "source": [
    "data.loc[data['title'].duplicated()]"
   ]
  },
  {
   "cell_type": "code",
   "execution_count": 29,
   "id": "0b5fec18",
   "metadata": {},
   "outputs": [
    {
     "data": {
      "text/html": [
       "<div>\n",
       "<style scoped>\n",
       "    .dataframe tbody tr th:only-of-type {\n",
       "        vertical-align: middle;\n",
       "    }\n",
       "\n",
       "    .dataframe tbody tr th {\n",
       "        vertical-align: top;\n",
       "    }\n",
       "\n",
       "    .dataframe thead th {\n",
       "        text-align: right;\n",
       "    }\n",
       "</style>\n",
       "<table border=\"1\" class=\"dataframe\">\n",
       "  <thead>\n",
       "    <tr style=\"text-align: right;\">\n",
       "      <th></th>\n",
       "      <th>title</th>\n",
       "      <th>subtitles</th>\n",
       "      <th>rating</th>\n",
       "    </tr>\n",
       "  </thead>\n",
       "  <tbody>\n",
       "    <tr>\n",
       "      <th>131</th>\n",
       "      <td>Downton Abbey - S01E04 - Episode 4.eng.SDH</td>\n",
       "      <td>, , well, let's get up a party in the evening...</td>\n",
       "      <td>C1</td>\n",
       "    </tr>\n",
       "    <tr>\n",
       "      <th>174</th>\n",
       "      <td>Downton Abbey - S01E04 - Episode 4.eng.SDH</td>\n",
       "      <td>philip fuel on. , , chocks are in position. s...</td>\n",
       "      <td>B2</td>\n",
       "    </tr>\n",
       "  </tbody>\n",
       "</table>\n",
       "</div>"
      ],
      "text/plain": [
       "                                          title  \\\n",
       "131  Downton Abbey - S01E04 - Episode 4.eng.SDH   \n",
       "174  Downton Abbey - S01E04 - Episode 4.eng.SDH   \n",
       "\n",
       "                                             subtitles rating  \n",
       "131   , , well, let's get up a party in the evening...     C1  \n",
       "174   philip fuel on. , , chocks are in position. s...     B2  "
      ]
     },
     "execution_count": 29,
     "metadata": {},
     "output_type": "execute_result"
    }
   ],
   "source": [
    "data.loc[data['title']=='Downton Abbey - S01E04 - Episode 4.eng.SDH']"
   ]
  },
  {
   "cell_type": "code",
   "execution_count": 30,
   "id": "73ce6179",
   "metadata": {},
   "outputs": [
    {
     "data": {
      "text/html": [
       "<div>\n",
       "<style scoped>\n",
       "    .dataframe tbody tr th:only-of-type {\n",
       "        vertical-align: middle;\n",
       "    }\n",
       "\n",
       "    .dataframe tbody tr th {\n",
       "        vertical-align: top;\n",
       "    }\n",
       "\n",
       "    .dataframe thead th {\n",
       "        text-align: right;\n",
       "    }\n",
       "</style>\n",
       "<table border=\"1\" class=\"dataframe\">\n",
       "  <thead>\n",
       "    <tr style=\"text-align: right;\">\n",
       "      <th></th>\n",
       "      <th>title</th>\n",
       "      <th>subtitles</th>\n",
       "      <th>rating</th>\n",
       "    </tr>\n",
       "  </thead>\n",
       "  <tbody>\n",
       "    <tr>\n",
       "      <th>119</th>\n",
       "      <td>Downton Abbey - S01E03 - Episode 3.eng.SDH</td>\n",
       "      <td>bates. it's in. came this morning. , , they s...</td>\n",
       "      <td>C1</td>\n",
       "    </tr>\n",
       "    <tr>\n",
       "      <th>224</th>\n",
       "      <td>Downton Abbey - S01E03 - Episode 3.eng.SDH</td>\n",
       "      <td>, , are you hearing me? hear you clearly. , ,...</td>\n",
       "      <td>B2</td>\n",
       "    </tr>\n",
       "  </tbody>\n",
       "</table>\n",
       "</div>"
      ],
      "text/plain": [
       "                                          title  \\\n",
       "119  Downton Abbey - S01E03 - Episode 3.eng.SDH   \n",
       "224  Downton Abbey - S01E03 - Episode 3.eng.SDH   \n",
       "\n",
       "                                             subtitles rating  \n",
       "119   bates. it's in. came this morning. , , they s...     C1  \n",
       "224   , , are you hearing me? hear you clearly. , ,...     B2  "
      ]
     },
     "execution_count": 30,
     "metadata": {},
     "output_type": "execute_result"
    }
   ],
   "source": [
    "data.loc[data['title']=='Downton Abbey - S01E03 - Episode 3.eng.SDH']"
   ]
  },
  {
   "cell_type": "markdown",
   "id": "34574e61",
   "metadata": {},
   "source": [
    "В данных есть два дубликата в названиях фильма"
   ]
  },
  {
   "cell_type": "code",
   "execution_count": 31,
   "id": "948c9f07",
   "metadata": {},
   "outputs": [
    {
     "data": {
      "text/html": [
       "<div>\n",
       "<style scoped>\n",
       "    .dataframe tbody tr th:only-of-type {\n",
       "        vertical-align: middle;\n",
       "    }\n",
       "\n",
       "    .dataframe tbody tr th {\n",
       "        vertical-align: top;\n",
       "    }\n",
       "\n",
       "    .dataframe thead th {\n",
       "        text-align: right;\n",
       "    }\n",
       "</style>\n",
       "<table border=\"1\" class=\"dataframe\">\n",
       "  <thead>\n",
       "    <tr style=\"text-align: right;\">\n",
       "      <th></th>\n",
       "      <th>title</th>\n",
       "      <th>subtitles</th>\n",
       "      <th>rating</th>\n",
       "    </tr>\n",
       "  </thead>\n",
       "  <tbody>\n",
       "    <tr>\n",
       "      <th>15</th>\n",
       "      <td>Beauty_and_the_beast(2017)</td>\n",
       "      <td>, , a handsome young prince. , , lived in a b...</td>\n",
       "      <td>B2</td>\n",
       "    </tr>\n",
       "    <tr>\n",
       "      <th>33</th>\n",
       "      <td>Beauty_and_the_beast(2017)</td>\n",
       "      <td>absolutely but i just , , need a little more ...</td>\n",
       "      <td>B2</td>\n",
       "    </tr>\n",
       "  </tbody>\n",
       "</table>\n",
       "</div>"
      ],
      "text/plain": [
       "                         title  \\\n",
       "15  Beauty_and_the_beast(2017)   \n",
       "33  Beauty_and_the_beast(2017)   \n",
       "\n",
       "                                            subtitles rating  \n",
       "15   , , a handsome young prince. , , lived in a b...     B2  \n",
       "33   absolutely but i just , , need a little more ...     B2  "
      ]
     },
     "execution_count": 31,
     "metadata": {},
     "output_type": "execute_result"
    }
   ],
   "source": [
    "data.loc[data['title']=='Beauty_and_the_beast(2017)']"
   ]
  },
  {
   "cell_type": "markdown",
   "id": "10a2b246",
   "metadata": {},
   "source": [
    "Посмотрим на исходные ссылки, по которым присваивались названия, может функция допустила ошибку"
   ]
  },
  {
   "cell_type": "code",
   "execution_count": 32,
   "id": "f914ea6b",
   "metadata": {},
   "outputs": [
    {
     "data": {
      "text/plain": [
       "PosixPath('/Users/dmitrijmatienko/Downloads/English_level/English_scores/Subtitles_all/Subtitles/Beauty_and_the_beast(2017).srt')"
      ]
     },
     "execution_count": 32,
     "metadata": {},
     "output_type": "execute_result"
    }
   ],
   "source": [
    "films_sub[15]"
   ]
  },
  {
   "cell_type": "code",
   "execution_count": 33,
   "id": "6f112c27",
   "metadata": {},
   "outputs": [
    {
     "data": {
      "text/plain": [
       "PosixPath('/Users/dmitrijmatienko/Downloads/English_level/English_scores/Subtitles_all/Subtitles/Breaking_Bad_The_Movie(2017).srt')"
      ]
     },
     "execution_count": 33,
     "metadata": {},
     "output_type": "execute_result"
    }
   ],
   "source": [
    "films_sub[33]"
   ]
  },
  {
   "cell_type": "code",
   "execution_count": 34,
   "id": "e44fddb2",
   "metadata": {},
   "outputs": [
    {
     "data": {
      "text/html": [
       "<div>\n",
       "<style scoped>\n",
       "    .dataframe tbody tr th:only-of-type {\n",
       "        vertical-align: middle;\n",
       "    }\n",
       "\n",
       "    .dataframe tbody tr th {\n",
       "        vertical-align: top;\n",
       "    }\n",
       "\n",
       "    .dataframe thead th {\n",
       "        text-align: right;\n",
       "    }\n",
       "</style>\n",
       "<table border=\"1\" class=\"dataframe\">\n",
       "  <thead>\n",
       "    <tr style=\"text-align: right;\">\n",
       "      <th></th>\n",
       "      <th>id</th>\n",
       "      <th>Movie</th>\n",
       "      <th>Level</th>\n",
       "    </tr>\n",
       "  </thead>\n",
       "  <tbody>\n",
       "  </tbody>\n",
       "</table>\n",
       "</div>"
      ],
      "text/plain": [
       "Empty DataFrame\n",
       "Columns: [id, Movie, Level]\n",
       "Index: []"
      ]
     },
     "execution_count": 34,
     "metadata": {},
     "output_type": "execute_result"
    }
   ],
   "source": [
    "rating.loc[rating['Movie']=='Breaking_Bad_The_Movie(2017))']"
   ]
  },
  {
   "cell_type": "markdown",
   "id": "dda8ef1c",
   "metadata": {},
   "source": [
    "Такого фильма нет в табличке с рейтингами и файл с субтитрами лежит в папке 'Subtitles',значит мы не можем никак определить рейтинг этого фильма, поэтому удалим его"
   ]
  },
  {
   "cell_type": "code",
   "execution_count": 35,
   "id": "03e7c51a",
   "metadata": {},
   "outputs": [],
   "source": [
    "data=data.drop(labels=[33],axis=0)\n"
   ]
  },
  {
   "cell_type": "code",
   "execution_count": 36,
   "id": "1a6df98c",
   "metadata": {},
   "outputs": [],
   "source": [
    "data=data.drop(labels=[174],axis=0)"
   ]
  },
  {
   "cell_type": "code",
   "execution_count": 37,
   "id": "1cc7fc7c",
   "metadata": {},
   "outputs": [],
   "source": [
    "data=data.drop(labels=[224],axis=0)"
   ]
  },
  {
   "cell_type": "code",
   "execution_count": 38,
   "id": "d25df474",
   "metadata": {},
   "outputs": [],
   "source": [
    "data=data.drop(labels=[241],axis=0)"
   ]
  },
  {
   "cell_type": "code",
   "execution_count": 39,
   "id": "c3e3a119",
   "metadata": {},
   "outputs": [],
   "source": [
    "data=data.drop(labels=[250],axis=0)"
   ]
  },
  {
   "cell_type": "markdown",
   "id": "48c8ef08",
   "metadata": {},
   "source": [
    "Удалили дубликаты"
   ]
  },
  {
   "cell_type": "code",
   "execution_count": 40,
   "id": "c2b34c2a",
   "metadata": {},
   "outputs": [
    {
     "data": {
      "text/html": [
       "<div>\n",
       "<style scoped>\n",
       "    .dataframe tbody tr th:only-of-type {\n",
       "        vertical-align: middle;\n",
       "    }\n",
       "\n",
       "    .dataframe tbody tr th {\n",
       "        vertical-align: top;\n",
       "    }\n",
       "\n",
       "    .dataframe thead th {\n",
       "        text-align: right;\n",
       "    }\n",
       "</style>\n",
       "<table border=\"1\" class=\"dataframe\">\n",
       "  <thead>\n",
       "    <tr style=\"text-align: right;\">\n",
       "      <th></th>\n",
       "      <th>title</th>\n",
       "      <th>subtitles</th>\n",
       "      <th>rating</th>\n",
       "    </tr>\n",
       "  </thead>\n",
       "  <tbody>\n",
       "    <tr>\n",
       "      <th>0</th>\n",
       "      <td>Dredd(2012)</td>\n",
       "      <td>, , within it lies a city. , , outside the bo...</td>\n",
       "      <td>A2/A2+</td>\n",
       "    </tr>\n",
       "    <tr>\n",
       "      <th>1</th>\n",
       "      <td>Despicable_Me(2010)</td>\n",
       "      <td>i got the pyramid in my hand. , , justin, you...</td>\n",
       "      <td>B2</td>\n",
       "    </tr>\n",
       "    <tr>\n",
       "      <th>2</th>\n",
       "      <td>The_secret_life_of_Walter_Mitty(2013)</td>\n",
       "      <td>, , how can i help you today? , , hi. i can't...</td>\n",
       "      <td>B1</td>\n",
       "    </tr>\n",
       "    <tr>\n",
       "      <th>3</th>\n",
       "      <td>Shrek(2001)</td>\n",
       "      <td>se user zen bud , , once upon a time there was...</td>\n",
       "      <td>B1</td>\n",
       "    </tr>\n",
       "    <tr>\n",
       "      <th>4</th>\n",
       "      <td>Deadpool(2016)</td>\n",
       "      <td>com ahmedhamdy , , , , there'll be no strings ...</td>\n",
       "      <td>B2</td>\n",
       "    </tr>\n",
       "    <tr>\n",
       "      <th>...</th>\n",
       "      <td>...</td>\n",
       "      <td>...</td>\n",
       "      <td>...</td>\n",
       "    </tr>\n",
       "    <tr>\n",
       "      <th>273</th>\n",
       "      <td>The Walking Dead-S01E05-Wildfire.English</td>\n",
       "      <td>, , i don't know if you can hear me. , , mayb...</td>\n",
       "      <td>A2</td>\n",
       "    </tr>\n",
       "    <tr>\n",
       "      <th>274</th>\n",
       "      <td>The Walking Dead-S01E02-Guts.English</td>\n",
       "      <td>, , pots rattling , , any luck? , , how do we...</td>\n",
       "      <td>A2</td>\n",
       "    </tr>\n",
       "    <tr>\n",
       "      <th>275</th>\n",
       "      <td>The Walking Dead-S01E04-Vatos.English</td>\n",
       "      <td>, , it's not nothing. it's always something. ...</td>\n",
       "      <td>A2</td>\n",
       "    </tr>\n",
       "    <tr>\n",
       "      <th>276</th>\n",
       "      <td>The Walking Dead-S01E06-TS-19.English</td>\n",
       "      <td>whoa whoa whoa whoa. , , ma'am. ma'am, please...</td>\n",
       "      <td>A2</td>\n",
       "    </tr>\n",
       "    <tr>\n",
       "      <th>277</th>\n",
       "      <td>The Walking Dead-S01E01-Days Gone Bye.English</td>\n",
       "      <td>, , little girl. , , don't be afraid, okay? ,...</td>\n",
       "      <td>A2</td>\n",
       "    </tr>\n",
       "  </tbody>\n",
       "</table>\n",
       "<p>266 rows × 3 columns</p>\n",
       "</div>"
      ],
      "text/plain": [
       "                                             title  \\\n",
       "0                                      Dredd(2012)   \n",
       "1                              Despicable_Me(2010)   \n",
       "2            The_secret_life_of_Walter_Mitty(2013)   \n",
       "3                                      Shrek(2001)   \n",
       "4                                   Deadpool(2016)   \n",
       "..                                             ...   \n",
       "273       The Walking Dead-S01E05-Wildfire.English   \n",
       "274           The Walking Dead-S01E02-Guts.English   \n",
       "275          The Walking Dead-S01E04-Vatos.English   \n",
       "276          The Walking Dead-S01E06-TS-19.English   \n",
       "277  The Walking Dead-S01E01-Days Gone Bye.English   \n",
       "\n",
       "                                             subtitles  rating  \n",
       "0     , , within it lies a city. , , outside the bo...  A2/A2+  \n",
       "1     i got the pyramid in my hand. , , justin, you...      B2  \n",
       "2     , , how can i help you today? , , hi. i can't...      B1  \n",
       "3    se user zen bud , , once upon a time there was...      B1  \n",
       "4    com ahmedhamdy , , , , there'll be no strings ...      B2  \n",
       "..                                                 ...     ...  \n",
       "273   , , i don't know if you can hear me. , , mayb...      A2  \n",
       "274   , , pots rattling , , any luck? , , how do we...      A2  \n",
       "275   , , it's not nothing. it's always something. ...      A2  \n",
       "276   whoa whoa whoa whoa. , , ma'am. ma'am, please...      A2  \n",
       "277   , , little girl. , , don't be afraid, okay? ,...      A2  \n",
       "\n",
       "[266 rows x 3 columns]"
      ]
     },
     "execution_count": 40,
     "metadata": {},
     "output_type": "execute_result"
    }
   ],
   "source": [
    "data"
   ]
  },
  {
   "cell_type": "code",
   "execution_count": 61,
   "id": "51fbc573",
   "metadata": {},
   "outputs": [
    {
     "data": {
      "text/plain": [
       "<AxesSubplot:>"
      ]
     },
     "execution_count": 61,
     "metadata": {},
     "output_type": "execute_result"
    },
    {
     "data": {
      "image/png": "[encoded data removed]",
      "text/plain": [
       "<Figure size 640x480 with 1 Axes>"
      ]
     },
     "metadata": {},
     "output_type": "display_data"
    }
   ],
   "source": [
    "data['rating'].hist()"
   ]
  },
  {
   "cell_type": "markdown",
   "id": "3e440d47",
   "metadata": {},
   "source": [
    "Распределение по классам неравномерное, это может повлиять на качество обучения, поэтому объединим часть категорий и уберем \"переходные категории\", сделаем 4 категории \"B1\",\"B2\",\"C1\" и \"A2/A2+\""
   ]
  },
  {
   "cell_type": "code",
   "execution_count": 58,
   "id": "7cc423f4",
   "metadata": {},
   "outputs": [
    {
     "data": {
      "text/plain": [
       "array(['A2/A2+', 'B2', 'B1', 'C1', 'B1, B2'], dtype=object)"
      ]
     },
     "execution_count": 58,
     "metadata": {},
     "output_type": "execute_result"
    }
   ],
   "source": [
    "data['rating'].unique()"
   ]
  },
  {
   "cell_type": "code",
   "execution_count": 56,
   "id": "8f835828",
   "metadata": {},
   "outputs": [],
   "source": [
    "data.loc[data['rating']=='A2','rating']='A2/A2+'"
   ]
  },
  {
   "cell_type": "code",
   "execution_count": 60,
   "id": "d75a7171",
   "metadata": {},
   "outputs": [],
   "source": [
    "data.loc[data['rating']=='A2/A2+, B1','rating']='A2/A2+'"
   ]
  },
  {
   "cell_type": "code",
   "execution_count": 62,
   "id": "642d44ec",
   "metadata": {},
   "outputs": [],
   "source": [
    "data.loc[data['rating']=='B1, B2','rating']='B1'"
   ]
  },
  {
   "cell_type": "code",
   "execution_count": 64,
   "id": "cb84a662",
   "metadata": {},
   "outputs": [
    {
     "data": {
      "text/plain": [
       "<AxesSubplot:>"
      ]
     },
     "execution_count": 64,
     "metadata": {},
     "output_type": "execute_result"
    },
    {
     "data": {
      "image/png": "[encoded data removed]",
      "text/plain": [
       "<Figure size 640x480 with 1 Axes>"
      ]
     },
     "metadata": {},
     "output_type": "display_data"
    }
   ],
   "source": [
    "data['rating'].hist()"
   ]
  },
  {
   "cell_type": "markdown",
   "id": "a7e6eedd",
   "metadata": {},
   "source": [
    "Стало намного лучше"
   ]
  },
  {
   "cell_type": "markdown",
   "id": "ec8855ab",
   "metadata": {},
   "source": [
    "Данные собраны в датасет и обработаны, теперь можно приступить к обучению моделей"
   ]
  },
  {
   "cell_type": "markdown",
   "id": "2ac273eb",
   "metadata": {},
   "source": [
    "## Обучение модели"
   ]
  },
  {
   "cell_type": "markdown",
   "id": "2305ba04",
   "metadata": {},
   "source": [
    "Перед обучением модели еше нужно убрать стопслова и все пунктационные знаки"
   ]
  },
  {
   "cell_type": "code",
   "execution_count": 79,
   "id": "95aa05a6",
   "metadata": {},
   "outputs": [],
   "source": [
    "df=data.drop(['title'],axis=1)"
   ]
  },
  {
   "cell_type": "code",
   "execution_count": 84,
   "id": "59670f2a",
   "metadata": {},
   "outputs": [
    {
     "data": {
      "text/html": [
       "<div>\n",
       "<style scoped>\n",
       "    .dataframe tbody tr th:only-of-type {\n",
       "        vertical-align: middle;\n",
       "    }\n",
       "\n",
       "    .dataframe tbody tr th {\n",
       "        vertical-align: top;\n",
       "    }\n",
       "\n",
       "    .dataframe thead th {\n",
       "        text-align: right;\n",
       "    }\n",
       "</style>\n",
       "<table border=\"1\" class=\"dataframe\">\n",
       "  <thead>\n",
       "    <tr style=\"text-align: right;\">\n",
       "      <th></th>\n",
       "      <th>subtitles</th>\n",
       "      <th>rating</th>\n",
       "    </tr>\n",
       "  </thead>\n",
       "  <tbody>\n",
       "    <tr>\n",
       "      <th>0</th>\n",
       "      <td>, , within it lies a city. , , outside the bo...</td>\n",
       "      <td>A2/A2+</td>\n",
       "    </tr>\n",
       "    <tr>\n",
       "      <th>1</th>\n",
       "      <td>i got the pyramid in my hand. , , justin, you...</td>\n",
       "      <td>B2</td>\n",
       "    </tr>\n",
       "    <tr>\n",
       "      <th>2</th>\n",
       "      <td>, , how can i help you today? , , hi. i can't...</td>\n",
       "      <td>B1</td>\n",
       "    </tr>\n",
       "    <tr>\n",
       "      <th>3</th>\n",
       "      <td>se user zen bud , , once upon a time there was...</td>\n",
       "      <td>B1</td>\n",
       "    </tr>\n",
       "    <tr>\n",
       "      <th>4</th>\n",
       "      <td>com ahmedhamdy , , , , there'll be no strings ...</td>\n",
       "      <td>B2</td>\n",
       "    </tr>\n",
       "    <tr>\n",
       "      <th>...</th>\n",
       "      <td>...</td>\n",
       "      <td>...</td>\n",
       "    </tr>\n",
       "    <tr>\n",
       "      <th>273</th>\n",
       "      <td>, , i don't know if you can hear me. , , mayb...</td>\n",
       "      <td>A2/A2+</td>\n",
       "    </tr>\n",
       "    <tr>\n",
       "      <th>274</th>\n",
       "      <td>, , pots rattling , , any luck? , , how do we...</td>\n",
       "      <td>A2/A2+</td>\n",
       "    </tr>\n",
       "    <tr>\n",
       "      <th>275</th>\n",
       "      <td>, , it's not nothing. it's always something. ...</td>\n",
       "      <td>A2/A2+</td>\n",
       "    </tr>\n",
       "    <tr>\n",
       "      <th>276</th>\n",
       "      <td>whoa whoa whoa whoa. , , ma'am. ma'am, please...</td>\n",
       "      <td>A2/A2+</td>\n",
       "    </tr>\n",
       "    <tr>\n",
       "      <th>277</th>\n",
       "      <td>, , little girl. , , don't be afraid, okay? ,...</td>\n",
       "      <td>A2/A2+</td>\n",
       "    </tr>\n",
       "  </tbody>\n",
       "</table>\n",
       "<p>266 rows × 2 columns</p>\n",
       "</div>"
      ],
      "text/plain": [
       "                                             subtitles  rating\n",
       "0     , , within it lies a city. , , outside the bo...  A2/A2+\n",
       "1     i got the pyramid in my hand. , , justin, you...      B2\n",
       "2     , , how can i help you today? , , hi. i can't...      B1\n",
       "3    se user zen bud , , once upon a time there was...      B1\n",
       "4    com ahmedhamdy , , , , there'll be no strings ...      B2\n",
       "..                                                 ...     ...\n",
       "273   , , i don't know if you can hear me. , , mayb...  A2/A2+\n",
       "274   , , pots rattling , , any luck? , , how do we...  A2/A2+\n",
       "275   , , it's not nothing. it's always something. ...  A2/A2+\n",
       "276   whoa whoa whoa whoa. , , ma'am. ma'am, please...  A2/A2+\n",
       "277   , , little girl. , , don't be afraid, okay? ,...  A2/A2+\n",
       "\n",
       "[266 rows x 2 columns]"
      ]
     },
     "execution_count": 84,
     "metadata": {},
     "output_type": "execute_result"
    }
   ],
   "source": [
    "df"
   ]
  },
  {
   "cell_type": "markdown",
   "id": "fcc9604b",
   "metadata": {},
   "source": [
    "Уберем пунктуацию"
   ]
  },
  {
   "cell_type": "code",
   "execution_count": 85,
   "id": "8d71912d",
   "metadata": {},
   "outputs": [],
   "source": [
    "PUNCT_TO_REMOVE = string.punctuation\n",
    "def remove_punctuation(text):\n",
    "    \"\"\"custom function to remove the punctuation\"\"\"\n",
    "    return text.translate(str.maketrans('', '', PUNCT_TO_REMOVE))"
   ]
  },
  {
   "cell_type": "code",
   "execution_count": 87,
   "id": "3c561ce4",
   "metadata": {},
   "outputs": [],
   "source": [
    "df[\"subtitles\"] = df[\"subtitles\"].apply(lambda text: remove_punctuation(text))"
   ]
  },
  {
   "cell_type": "code",
   "execution_count": 88,
   "id": "70e628c2",
   "metadata": {},
   "outputs": [
    {
     "data": {
      "text/html": [
       "<div>\n",
       "<style scoped>\n",
       "    .dataframe tbody tr th:only-of-type {\n",
       "        vertical-align: middle;\n",
       "    }\n",
       "\n",
       "    .dataframe tbody tr th {\n",
       "        vertical-align: top;\n",
       "    }\n",
       "\n",
       "    .dataframe thead th {\n",
       "        text-align: right;\n",
       "    }\n",
       "</style>\n",
       "<table border=\"1\" class=\"dataframe\">\n",
       "  <thead>\n",
       "    <tr style=\"text-align: right;\">\n",
       "      <th></th>\n",
       "      <th>subtitles</th>\n",
       "      <th>rating</th>\n",
       "    </tr>\n",
       "  </thead>\n",
       "  <tbody>\n",
       "    <tr>\n",
       "      <th>0</th>\n",
       "      <td>within it lies a city   outside the boundar...</td>\n",
       "      <td>A2/A2+</td>\n",
       "    </tr>\n",
       "    <tr>\n",
       "      <th>1</th>\n",
       "      <td>i got the pyramid in my hand   justin you get...</td>\n",
       "      <td>B2</td>\n",
       "    </tr>\n",
       "    <tr>\n",
       "      <th>2</th>\n",
       "      <td>how can i help you today   hi i cant seem t...</td>\n",
       "      <td>B1</td>\n",
       "    </tr>\n",
       "    <tr>\n",
       "      <th>3</th>\n",
       "      <td>se user zen bud   once upon a time there was a...</td>\n",
       "      <td>B1</td>\n",
       "    </tr>\n",
       "    <tr>\n",
       "      <th>4</th>\n",
       "      <td>com ahmedhamdy     therell be no strings to bi...</td>\n",
       "      <td>B2</td>\n",
       "    </tr>\n",
       "    <tr>\n",
       "      <th>...</th>\n",
       "      <td>...</td>\n",
       "      <td>...</td>\n",
       "    </tr>\n",
       "    <tr>\n",
       "      <th>273</th>\n",
       "      <td>i dont know if you can hear me   maybe your...</td>\n",
       "      <td>A2/A2+</td>\n",
       "    </tr>\n",
       "    <tr>\n",
       "      <th>274</th>\n",
       "      <td>pots rattling   any luck   how do we tell i...</td>\n",
       "      <td>A2/A2+</td>\n",
       "    </tr>\n",
       "    <tr>\n",
       "      <th>275</th>\n",
       "      <td>its not nothing its always something   didn...</td>\n",
       "      <td>A2/A2+</td>\n",
       "    </tr>\n",
       "    <tr>\n",
       "      <th>276</th>\n",
       "      <td>whoa whoa whoa whoa   maam maam please   plea...</td>\n",
       "      <td>A2/A2+</td>\n",
       "    </tr>\n",
       "    <tr>\n",
       "      <th>277</th>\n",
       "      <td>little girl   dont be afraid okay   little ...</td>\n",
       "      <td>A2/A2+</td>\n",
       "    </tr>\n",
       "  </tbody>\n",
       "</table>\n",
       "<p>266 rows × 2 columns</p>\n",
       "</div>"
      ],
      "text/plain": [
       "                                             subtitles  rating\n",
       "0       within it lies a city   outside the boundar...  A2/A2+\n",
       "1     i got the pyramid in my hand   justin you get...      B2\n",
       "2       how can i help you today   hi i cant seem t...      B1\n",
       "3    se user zen bud   once upon a time there was a...      B1\n",
       "4    com ahmedhamdy     therell be no strings to bi...      B2\n",
       "..                                                 ...     ...\n",
       "273     i dont know if you can hear me   maybe your...  A2/A2+\n",
       "274     pots rattling   any luck   how do we tell i...  A2/A2+\n",
       "275     its not nothing its always something   didn...  A2/A2+\n",
       "276   whoa whoa whoa whoa   maam maam please   plea...  A2/A2+\n",
       "277     little girl   dont be afraid okay   little ...  A2/A2+\n",
       "\n",
       "[266 rows x 2 columns]"
      ]
     },
     "execution_count": 88,
     "metadata": {},
     "output_type": "execute_result"
    }
   ],
   "source": [
    "df"
   ]
  },
  {
   "cell_type": "markdown",
   "id": "15f2926e",
   "metadata": {},
   "source": [
    "Удалим стопслова"
   ]
  },
  {
   "cell_type": "code",
   "execution_count": 93,
   "id": "7c040e11",
   "metadata": {},
   "outputs": [
    {
     "data": {
      "text/html": [
       "<div>\n",
       "<style scoped>\n",
       "    .dataframe tbody tr th:only-of-type {\n",
       "        vertical-align: middle;\n",
       "    }\n",
       "\n",
       "    .dataframe tbody tr th {\n",
       "        vertical-align: top;\n",
       "    }\n",
       "\n",
       "    .dataframe thead th {\n",
       "        text-align: right;\n",
       "    }\n",
       "</style>\n",
       "<table border=\"1\" class=\"dataframe\">\n",
       "  <thead>\n",
       "    <tr style=\"text-align: right;\">\n",
       "      <th></th>\n",
       "      <th>subtitles</th>\n",
       "      <th>rating</th>\n",
       "    </tr>\n",
       "  </thead>\n",
       "  <tbody>\n",
       "    <tr>\n",
       "      <th>0</th>\n",
       "      <td>within lies city outside boundary walls desert...</td>\n",
       "      <td>A2/A2+</td>\n",
       "    </tr>\n",
       "    <tr>\n",
       "      <th>1</th>\n",
       "      <td>got pyramid hand justin get back right stop st...</td>\n",
       "      <td>B2</td>\n",
       "    </tr>\n",
       "    <tr>\n",
       "      <th>2</th>\n",
       "      <td>help today hi cant seem leave wink someone don...</td>\n",
       "      <td>B1</td>\n",
       "    </tr>\n",
       "    <tr>\n",
       "      <th>3</th>\n",
       "      <td>se user zen bud upon time lovely princess ench...</td>\n",
       "      <td>B1</td>\n",
       "    </tr>\n",
       "    <tr>\n",
       "      <th>4</th>\n",
       "      <td>com ahmedhamdy therell strings bind hands love...</td>\n",
       "      <td>B2</td>\n",
       "    </tr>\n",
       "  </tbody>\n",
       "</table>\n",
       "</div>"
      ],
      "text/plain": [
       "                                           subtitles  rating\n",
       "0  within lies city outside boundary walls desert...  A2/A2+\n",
       "1  got pyramid hand justin get back right stop st...      B2\n",
       "2  help today hi cant seem leave wink someone don...      B1\n",
       "3  se user zen bud upon time lovely princess ench...      B1\n",
       "4  com ahmedhamdy therell strings bind hands love...      B2"
      ]
     },
     "execution_count": 93,
     "metadata": {},
     "output_type": "execute_result"
    }
   ],
   "source": [
    "STOPWORDS = set(stopwords.words('english'))\n",
    "def remove_stopwords(text):\n",
    "    \"\"\"custom function to remove the stopwords\"\"\"\n",
    "    return \" \".join([word for word in str(text).split() if word not in STOPWORDS])\n",
    "\n",
    "df[\"subtitles\"] = df[\"subtitles\"].apply(lambda text: remove_stopwords(text))\n",
    "df.head()"
   ]
  },
  {
   "cell_type": "code",
   "execution_count": 95,
   "id": "380f52d2",
   "metadata": {},
   "outputs": [],
   "source": [
    "tfidf = TfidfVectorizer(ngram_range=(1, 3),\n",
    "                        min_df=2,\n",
    "                        use_idf=1, smooth_idf=1, sublinear_tf=1)"
   ]
  },
  {
   "cell_type": "code",
   "execution_count": 98,
   "id": "c59626db",
   "metadata": {},
   "outputs": [
    {
     "data": {
      "text/plain": [
       "TfidfVectorizer(min_df=2, ngram_range=(1, 3), smooth_idf=1, sublinear_tf=1,\n",
       "                use_idf=1)"
      ]
     },
     "execution_count": 98,
     "metadata": {},
     "output_type": "execute_result"
    }
   ],
   "source": [
    "tfidf.fit(df.subtitles)"
   ]
  },
  {
   "cell_type": "code",
   "execution_count": 99,
   "id": "e4be11dc",
   "metadata": {},
   "outputs": [],
   "source": [
    "train= tfidf.transform(df.subtitles)"
   ]
  },
  {
   "cell_type": "code",
   "execution_count": 114,
   "id": "7431e220",
   "metadata": {},
   "outputs": [],
   "source": [
    "def RF(train,data_train):\n",
    "    features_train, features_valid, target_train, target_valid = train_test_split(train, \n",
    "                                                                                  data_train['rating'], test_size=0.25, random_state=12345)\n",
    "    RF = RandomForestClassifier(random_state=12345, n_estimators=150)\n",
    "    RF.fit(features_train,target_train)\n",
    "    predictions=RF.predict(features_valid)\n",
    "    return(RF,predictions,target_valid)"
   ]
  },
  {
   "cell_type": "code",
   "execution_count": 115,
   "id": "f57d3f96",
   "metadata": {},
   "outputs": [],
   "source": [
    "RF,predictions,target_valid=RF(train,df)"
   ]
  },
  {
   "cell_type": "code",
   "execution_count": 116,
   "id": "bd2c9bd5",
   "metadata": {},
   "outputs": [
    {
     "data": {
      "text/plain": [
       "0.38843999138116786"
      ]
     },
     "execution_count": 116,
     "metadata": {},
     "output_type": "execute_result"
    }
   ],
   "source": [
    "balanced_accuracy_score(target_valid,predictions)"
   ]
  },
  {
   "cell_type": "markdown",
   "id": "668db121",
   "metadata": {},
   "source": [
    "Достаточно хороший результат для начала"
   ]
  },
  {
   "cell_type": "code",
   "execution_count": 125,
   "id": "646e38e9",
   "metadata": {},
   "outputs": [],
   "source": [
    "def fit_model(train_pool, test_pool, **kwargs):    \n",
    "    model = CatBoostClassifier(task_type='CPU', iterations = 5000,\n",
    "                               eval_metric='AUC', od_type='Iter', early_stopping_rounds=500, **kwargs)\n",
    "    \n",
    "    return model.fit(train_pool, eval_set=test_pool, \n",
    "                     verbose=100, plot=True, \n",
    "                     use_best_model=True)  "
   ]
  },
  {
   "cell_type": "code",
   "execution_count": 118,
   "id": "b9e01d03",
   "metadata": {},
   "outputs": [],
   "source": [
    "features_train, features_valid, target_train, target_valid = train_test_split(train, \n",
    "                                                                                  df['rating'], test_size=0.25, random_state=12345)"
   ]
  },
  {
   "cell_type": "code",
   "execution_count": 121,
   "id": "d0992333",
   "metadata": {},
   "outputs": [],
   "source": [
    "train_pool = Pool(data=features_train, label=target_train)\n",
    "valid_pool = Pool(data=features_valid, label=target_valid)"
   ]
  },
  {
   "cell_type": "code",
   "execution_count": 126,
   "id": "71197654",
   "metadata": {},
   "outputs": [
    {
     "data": {
      "application/vnd.jupyter.widget-view+json": {
       "model_id": "c5d6a00cb6314a1295c6014ebf2d6c9d",
       "version_major": 2,
       "version_minor": 0
      },
      "text/plain": [
       "MetricVisualizer(layout=Layout(align_self='stretch', height='500px'))"
      ]
     },
     "metadata": {},
     "output_type": "display_data"
    },
    {
     "name": "stdout",
     "output_type": "stream",
     "text": [
      "0:\ttest: 0.6420087\tbest: 0.6420087 (0)\ttotal: 617ms\tremaining: 51m 25s\n",
      "100:\ttest: 0.9312289\tbest: 0.9339313 (99)\ttotal: 33.2s\tremaining: 26m 49s\n",
      "200:\ttest: 0.9272606\tbest: 0.9347931 (109)\ttotal: 1m 5s\tremaining: 26m 2s\n",
      "300:\ttest: 0.9303401\tbest: 0.9347931 (109)\ttotal: 1m 37s\tremaining: 25m 24s\n",
      "400:\ttest: 0.9318663\tbest: 0.9347931 (109)\ttotal: 2m 9s\tremaining: 24m 50s\n",
      "500:\ttest: 0.9318663\tbest: 0.9347931 (109)\ttotal: 2m 42s\tremaining: 24m 16s\n",
      "600:\ttest: 0.9318663\tbest: 0.9347931 (109)\ttotal: 3m 14s\tremaining: 23m 46s\n",
      "Stopped by overfitting detector  (500 iterations wait)\n",
      "\n",
      "bestTest = 0.934793148\n",
      "bestIteration = 109\n",
      "\n",
      "Shrink model to first 110 iterations.\n"
     ]
    }
   ],
   "source": [
    "model = fit_model(train_pool, valid_pool, learning_rate=0.35,\n",
    "                  dictionaries = [{\n",
    "                      'dictionary_id':'Word',\n",
    "                      'max_dictionary_size': '50000'\n",
    "                  }],\n",
    "                 feature_calcers = ['BoW:top_tokens_count=10000'])"
   ]
  },
  {
   "cell_type": "code",
   "execution_count": 127,
   "id": "93fd4910",
   "metadata": {},
   "outputs": [],
   "source": [
    "pre=model.predict( features_valid)"
   ]
  },
  {
   "cell_type": "code",
   "execution_count": 128,
   "id": "80b161d0",
   "metadata": {},
   "outputs": [
    {
     "data": {
      "text/plain": [
       "0.5683715794009911"
      ]
     },
     "execution_count": 128,
     "metadata": {},
     "output_type": "execute_result"
    }
   ],
   "source": [
    "balanced_accuracy_score(target_valid,pre)"
   ]
  },
  {
   "cell_type": "markdown",
   "id": "067f4ed6",
   "metadata": {},
   "source": [
    "Catboost выдает уже неплохое качество"
   ]
  },
  {
   "cell_type": "markdown",
   "id": "790b23bc",
   "metadata": {},
   "source": [
    "Загрузим модель"
   ]
  },
  {
   "cell_type": "code",
   "execution_count": 136,
   "id": "3431b5a0",
   "metadata": {},
   "outputs": [],
   "source": [
    "torch.save(model,'catboost_film.pth')"
   ]
  },
  {
   "cell_type": "markdown",
   "id": "fa97f512",
   "metadata": {},
   "source": [
    "# Вывод"
   ]
  },
  {
   "cell_type": "markdown",
   "id": "1fe449df",
   "metadata": {},
   "source": [
    "Загрузили данные, подготовили их для обучения модели, убрали стоп слова, пунктуацию, HTML тэги и остальную ненужную информацию. Убрали дубликаты, далее провели токенизацию и векторизацию текстовых данных, сначала обучили модель случайного леса, на тестовой выборке она показала результат 0.38( сбалансиорванный accuracy), далее обучили модель catboost, она показала существенно лучше результат в 0.56. Как итоговую модель будем брать именно Catboost"
   ]
  }
 ],
 "metadata": {
  "kernelspec": {
   "display_name": "Python 3 (ipykernel)",
   "language": "python",
   "name": "python3"
  },
  "language_info": {
   "codemirror_mode": {
    "name": "ipython",
    "version": 3
   },
   "file_extension": ".py",
   "mimetype": "text/x-python",
   "name": "python",
   "nbconvert_exporter": "python",
   "pygments_lexer": "ipython3",
   "version": "3.9.13"
  }
 },
 "nbformat": 4,
 "nbformat_minor": 5
}
